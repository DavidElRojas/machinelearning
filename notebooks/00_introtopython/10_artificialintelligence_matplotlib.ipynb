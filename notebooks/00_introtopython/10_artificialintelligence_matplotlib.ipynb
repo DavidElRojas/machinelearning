{
 "cells": [
  {
   "cell_type": "markdown",
   "metadata": {},
   "source": [
    "<!--NAVIGATION-->\n",
    "<a href=\"https://colab.research.google.com/github/marcoteran/machinelearning/blob/master/notebooks/00_introtopython/10_artificialintelligence_matplotlib.ipynb\" target=\"_blank\"><img align=\"left\" src=\"https://colab.research.google.com/assets/colab-badge.svg\" alt=\"Abrir en Colab\" title=\"Abrir y ejecutar en Google Colaboratory\"></a>"
   ]
  },
  {
   "cell_type": "markdown",
   "metadata": {},
   "source": [
    "### Ejemplos de código\n",
    "# Matplotlib\n",
    "## Inteligencia Artificial"
   ]
  },
  {
   "cell_type": "markdown",
   "metadata": {},
   "source": [
    "**Name:** Marco Teran **E-mail:** marco.tulio.teran@gmail.com,\n",
    "[Website](http://marcoteran.github.io/),\n",
    "[Github](https://github.com/marcoteran),\n",
    "[LinkedIn](https://www.linkedin.com/in/marcoteran/).\n",
    "___"
   ]
  },
  {
   "cell_type": "markdown",
   "metadata": {},
   "source": [
    "## Introducción"
   ]
  },
  {
   "cell_type": "markdown",
   "metadata": {},
   "source": [
    "Matplotlib es la librería de visualización de datos por excelencia en Python. Fue creada por John Hunter para tratar de replicar las funcionalidades de visualización de MatLab en Python. Si usted está familiarizado con MatLab, matplotlib será sencillo para usted.\n",
    "\n",
    "<img src=\"https://github.com/marcoteran/machinelearning/blob/master/notebooks/00_introtopython/figures/matplotliblogo.png\" alt=\"Numpy logo\" width=\"400\"/>\n",
    "\n",
    "Es una excelente librería de gráficos 2D y 3D. Algunas de las principales ventajas de Matplotlib son:\n",
    "* Es fácil comenzar a graficar\n",
    "* Soporta etiquetas y textos personalizados\n",
    "* Ofrece un gran control de todos los elementos de las figuras\n",
    "* Salida de alta calidad en muchos formatos\n",
    "* Muy personalizable\n",
    "\n",
    "<img src=\"https://github.com/marcoteran/machinelearning/blob/master/notebooks/00_introtopython/figures/matplotlibexamples.png\" alt=\"Numpy logo\" width=\"400\"/>\n",
    "\n",
    "Matplotlib permite crear figuras reproducibles mediante programación. Ver la página web oficial de Matplotlib: http://matplotlib.org/   \n"
   ]
  },
  {
   "cell_type": "markdown",
   "metadata": {},
   "source": [
    "## Instalación \n",
    "\n",
    "Si aún no está instalada, puede intalar matplotlib así:\n",
    "\n",
    "    conda install matplotlib\n",
    "o\n",
    "\n",
    "    pip install matplotlib"
   ]
  },
  {
   "cell_type": "markdown",
   "metadata": {},
   "source": [
    "## Importar\n",
    "\n",
    "Importar el módulo `matplotlib.pyplot` como `plt`:"
   ]
  },
  {
   "cell_type": "code",
   "execution_count": null,
   "metadata": {},
   "outputs": [],
   "source": [
    "import matplotlib.pyplot as plt"
   ]
  },
  {
   "cell_type": "markdown",
   "metadata": {},
   "source": [
    "Para ver las figuras dentro del Notebook es necesario ejecutar también el siguiente comando:"
   ]
  },
  {
   "cell_type": "code",
   "execution_count": null,
   "metadata": {},
   "outputs": [],
   "source": [
    "%matplotlib inline"
   ]
  },
  {
   "cell_type": "markdown",
   "metadata": {},
   "source": [
    "Tenga en cuenta que este comando es necesario sólo para Jupyter Notebooks. Si está usando otro editor, deberá usar: ** plt.show () ** al final de todos sus instrucciones de gráficas para que aparezca la figura en otra ventana."
   ]
  },
  {
   "cell_type": "markdown",
   "metadata": {
    "collapsed": true
   },
   "source": [
    "# Ejemplo\n",
    "\n",
    "Ejemplo sencillo usando 2 arreglos de NumPy. Se podrían usar también listas de Python, pero probablemente estaremos usando matplotlib con arreglos NumPy o columnas de DataFrames de Pandas.\n",
    "\n",
    "** Construimos los datos que queremos graficar: **"
   ]
  },
  {
   "cell_type": "code",
   "execution_count": null,
   "metadata": {},
   "outputs": [],
   "source": [
    "import numpy as np\n",
    "x = np.linspace(0, 5, 11) # 11 números entre 0 y 5, separados de forma uniforme\n",
    "y = x ** 2"
   ]
  },
  {
   "cell_type": "code",
   "execution_count": null,
   "metadata": {},
   "outputs": [],
   "source": [
    "x"
   ]
  },
  {
   "cell_type": "code",
   "execution_count": null,
   "metadata": {},
   "outputs": [],
   "source": [
    "y"
   ]
  },
  {
   "cell_type": "markdown",
   "metadata": {},
   "source": [
    "## Comandos básicos de Matplotlib\n",
    "\n",
    "Se recomienda hacer Shift+Tab para ver qué opciones poseen las funciones que usaremos.\n",
    "\n",
    "Exiten 2 formas de trabajar con matplotlib: método funcional y método orientado a objetos.\n",
    "\n",
    "### Método funcional"
   ]
  },
  {
   "cell_type": "code",
   "execution_count": null,
   "metadata": {},
   "outputs": [],
   "source": [
    "plt.plot(x, y)\n",
    "#plt.show()    # Esto es equivalente a usar print(x) en el Notebook o simplemente escribir x"
   ]
  },
  {
   "cell_type": "code",
   "execution_count": null,
   "metadata": {},
   "outputs": [],
   "source": [
    "plt.plot(x, y, 'r') # 'r' es el color rojo (red)\n",
    "plt.xlabel('Título del Eje X')\n",
    "plt.ylabel('Título del Eje Y')\n",
    "plt.title('Título de la Figura')\n",
    "plt.show()\n"
   ]
  },
  {
   "cell_type": "code",
   "execution_count": null,
   "metadata": {},
   "outputs": [],
   "source": [
    "# Se pueden hacer modificaciones al estilo de MatLab:\n",
    "plt.plot(x, y, 'r--')\n",
    "#plt.plot(x, y, 'r*')"
   ]
  },
  {
   "cell_type": "markdown",
   "metadata": {},
   "source": [
    "## Creación de múltiples figuras en el mismo canvas"
   ]
  },
  {
   "cell_type": "code",
   "execution_count": null,
   "metadata": {},
   "outputs": [],
   "source": [
    "# plt.subplot(nrows, ncols, plot_number)\n",
    "plt.subplot(1,2,1)\n",
    "plt.plot(x, y, 'r--')\n",
    "plt.subplot(1,2,2)\n",
    "plt.plot(y, x, 'g*-');"
   ]
  },
  {
   "cell_type": "markdown",
   "metadata": {},
   "source": [
    "___\n",
    "# Método orientado a objetos\n",
    "\n",
    "Ahora que hemos visto lo básico, analicemos todo con una introducción más formal al método orientado a objetos de Matplotlib. \n",
    "\n",
    "La idea principal es crear objetos de Figura y luego simplemente invocar métodos o atributos de ese objeto. Este enfoque es más agradable cuando se trata de un canvas que tiene múltiples gráficos en él.\n",
    "\n",
    "Para comenzar, creamos una instancia de figura. Luego, podemos agregar ejes a esa figura, así:"
   ]
  },
  {
   "cell_type": "code",
   "execution_count": null,
   "metadata": {},
   "outputs": [],
   "source": [
    "# Creamos una Figura (canvas vacío)\n",
    "fig = plt.figure()\n",
    "\n",
    "# Añadimos los ejes a la figura\n",
    "axes = fig.add_axes([0.1, 0.1, 0.8, 0.8]) # izquierda, abajo, ancho, alto (rango de 0 a 1)\n",
    "\n",
    "# Graficamos en esos ejes\n",
    "axes.plot(x, y, 'b')\n",
    "axes.set_xlabel('Eje X') # Nótese el uso de \"set_\" al principio del nombre de los métodos\n",
    "axes.set_ylabel('Eje Y')\n",
    "axes.set_title('Título de la Figura')"
   ]
  },
  {
   "cell_type": "markdown",
   "metadata": {},
   "source": [
    "El código es un poco más complicado, pero la ventaja es que ahora tenemos control total de dónde están ubicados los ejes de la gráfica, y podemos agregar fácilmente más de un eje a la figura. Por ejemplo:"
   ]
  },
  {
   "cell_type": "code",
   "execution_count": null,
   "metadata": {},
   "outputs": [],
   "source": [
    "# Crea un canvas vacío\n",
    "fig = plt.figure()\n",
    "\n",
    "axes1 = fig.add_axes([0.1, 0.1, 0.8, 0.8]) # eje principal\n",
    "axes2 = fig.add_axes([0.2, 0.5, 0.4, 0.3]) # eje interior\n",
    "\n",
    "\n",
    "# Figure principal Axes 1\n",
    "axes1.plot(x, y, 'b')\n",
    "axes1.set_xlabel('Eje X Principal 1')\n",
    "axes1.set_ylabel('Eje Y Principal 1')\n",
    "axes1.set_title('Título Principal 1')\n",
    "\n",
    "# Insert Figure Axes 2\n",
    "axes2.plot(y, x, 'r')\n",
    "axes2.set_xlabel('Eje X interior 2')\n",
    "axes2.set_ylabel('Eje Y interior 2')\n",
    "axes2.set_title('Título interior 2');"
   ]
  },
  {
   "cell_type": "markdown",
   "metadata": {},
   "source": [
    "## subplots()\n",
    "\n",
    "El método plt.subplots() sirve como gestor automático de gráficos.\n",
    "\n",
    "Casos de uso básicos:"
   ]
  },
  {
   "cell_type": "code",
   "execution_count": null,
   "metadata": {},
   "outputs": [],
   "source": [
    "# Se usa de forma simular a plt.figure() excepto que devuelve al mismo tiempo un objeto Figura y un objeto (o un arreglo) de ejes\n",
    "fig, axes = plt.subplots()\n",
    "\n",
    "# Ahora se usa el eje, como antes, para graficar en él\n",
    "axes.plot(x, y, 'r')\n",
    "axes.set_xlabel('x')\n",
    "axes.set_ylabel('y')\n",
    "axes.set_title('Título');"
   ]
  },
  {
   "cell_type": "markdown",
   "metadata": {},
   "source": [
    "Se puede especificar el número de fils y columnas al llamar a subplots():"
   ]
  },
  {
   "cell_type": "code",
   "execution_count": null,
   "metadata": {},
   "outputs": [],
   "source": [
    "# Canvas vacío de 1x2 subplots\n",
    "fig, axes = plt.subplots(nrows=1, ncols=2)"
   ]
  },
  {
   "cell_type": "code",
   "execution_count": null,
   "metadata": {},
   "outputs": [],
   "source": [
    "# Axes es un arreglo de ejes sobre los cuales se puede graficar\n",
    "axes"
   ]
  },
  {
   "cell_type": "code",
   "execution_count": null,
   "metadata": {},
   "outputs": [],
   "source": [
    "# Canvas vacío de 2x4 subplots\n",
    "fig, axes = plt.subplots(nrows=2, ncols=4)\n",
    "plt.tight_layout()"
   ]
  },
  {
   "cell_type": "code",
   "execution_count": null,
   "metadata": {},
   "outputs": [],
   "source": [
    "axes"
   ]
  },
  {
   "cell_type": "markdown",
   "metadata": {},
   "source": [
    "Podemos iterar sobre este arreglo:"
   ]
  },
  {
   "cell_type": "code",
   "execution_count": null,
   "metadata": {},
   "outputs": [],
   "source": [
    "for row in axes:\n",
    "    for ax in row:\n",
    "        ax.plot(x, y, 'b')\n",
    "        ax.set_xlabel('x')\n",
    "        ax.set_ylabel('y')\n",
    "        ax.set_title('title')\n",
    "\n",
    "\n",
    "axes[1,2].plot(x, y, 'r')\n",
    "\n",
    "# Para mostrar la figura    \n",
    "fig.tight_layout()\n",
    "fig\n",
    "\n"
   ]
  },
  {
   "cell_type": "markdown",
   "metadata": {},
   "source": [
    "Un problema común con matplolib es la superposición de gráficos. Podemos utilizar el método ** fig.tight_layout () ** o ** plt.tight_layout () ** para ajustar automáticamente las posiciones de los ejes en el canvas de la figura para que no haya contenido superpuesto."
   ]
  },
  {
   "cell_type": "code",
   "execution_count": null,
   "metadata": {},
   "outputs": [],
   "source": [
    "fig, axes = plt.subplots(nrows=1, ncols=2)\n",
    "\n",
    "for ax in axes:\n",
    "    ax.plot(x, y, 'g')\n",
    "    ax.set_xlabel('x')\n",
    "    ax.set_ylabel('y')\n",
    "    ax.set_title('title')\n",
    "\n",
    "fig\n",
    "plt.tight_layout()"
   ]
  },
  {
   "cell_type": "markdown",
   "metadata": {},
   "source": [
    "____\n",
    "## Tamaño de figuras y DPI (Dots per Inch)"
   ]
  },
  {
   "cell_type": "markdown",
   "metadata": {},
   "source": [
    "Matplotlib permite especificar el DPI y el tamaño de la figura cuando se crea el objeto Figure. Para esto, se usan los argumentos de las palabras clave `figsize` y `dpi`.\n",
    "* `figsize` es una tupla del ancho y alto de la figura en pulgadas\n",
    "* `dpi` es el punto por pulgada (pixel por pulgada).\n",
    "\n",
    "Por ejemplo:"
   ]
  },
  {
   "cell_type": "code",
   "execution_count": null,
   "metadata": {},
   "outputs": [],
   "source": [
    "fig = plt.figure(figsize=(10,2))   #, dpi=100)\n",
    "\n",
    "ax = fig.add_axes([0,0,1,1])\n",
    "ax.plot(x,y)"
   ]
  },
  {
   "cell_type": "markdown",
   "metadata": {},
   "source": [
    "Estos mismo argumentos también se pueden pasar a los manejadores de layout, como el método `subplots`:"
   ]
  },
  {
   "cell_type": "code",
   "execution_count": null,
   "metadata": {},
   "outputs": [],
   "source": [
    "fig, axes = plt.subplots(figsize=(12,3))\n",
    "\n",
    "axes.plot(x, y, 'r')\n",
    "axes.set_xlabel('x')\n",
    "axes.set_ylabel('y')\n",
    "axes.set_title('Título');"
   ]
  },
  {
   "cell_type": "code",
   "execution_count": null,
   "metadata": {},
   "outputs": [],
   "source": [
    "fig, axes = plt.subplots(nrows=2, ncols=1, figsize=(12,3))\n",
    "\n",
    "axes[0].plot(x, y, 'r')\n",
    "axes[1].plot(y, x, 'g')\n",
    "\n",
    "plt.tight_layout()"
   ]
  },
  {
   "cell_type": "markdown",
   "metadata": {},
   "source": [
    "____\n",
    "## Guardar las Figuras como archivos\n",
    "\n",
    "Matplotlib puede generar archivos de alta calidad en varios formatos, incluidos: PNG, JPG, EPS, SVG, PGF y PDF.\n",
    "\n",
    "Para guardar una figura en un archivo, podemos usar el método `savefig` de la clase `Figure`:\n"
   ]
  },
  {
   "cell_type": "code",
   "execution_count": null,
   "metadata": {},
   "outputs": [],
   "source": [
    "fig.savefig(\"figura.png\")"
   ]
  },
  {
   "cell_type": "markdown",
   "metadata": {},
   "source": [
    "En este punto, también se puede especificar el DPI y escoger los formatos de salida:"
   ]
  },
  {
   "cell_type": "code",
   "execution_count": null,
   "metadata": {},
   "outputs": [],
   "source": [
    "fig.savefig(\"figura_dpi200.png\", dpi=200)"
   ]
  },
  {
   "cell_type": "code",
   "execution_count": null,
   "metadata": {},
   "outputs": [],
   "source": [
    "# Generando un PDF\n",
    "fig.savefig(\"figura.pdf\",)"
   ]
  },
  {
   "cell_type": "markdown",
   "metadata": {},
   "source": [
    "____\n",
    "\n",
    "## Leyendas, etiquetas, títulos"
   ]
  },
  {
   "cell_type": "markdown",
   "metadata": {},
   "source": [
    "Veamos cómo decorar una figura con títulos, etiquetas de ejes y leyendas."
   ]
  },
  {
   "cell_type": "markdown",
   "metadata": {},
   "source": [
    "**Títulos de Figuras**\n",
    "\n",
    "Use el método `set_title` en el objeto `axes`:"
   ]
  },
  {
   "cell_type": "code",
   "execution_count": null,
   "metadata": {},
   "outputs": [],
   "source": [
    "ax.set_title(\"title\");"
   ]
  },
  {
   "cell_type": "markdown",
   "metadata": {},
   "source": [
    "**Etiquetas de ejes**\n",
    "\n",
    "Use los métodos `set_xlabel` y `set_ylabel` para darle nombres a los ejes:"
   ]
  },
  {
   "cell_type": "code",
   "execution_count": null,
   "metadata": {},
   "outputs": [],
   "source": [
    "ax.set_xlabel(\"x\")\n",
    "ax.set_ylabel(\"y\");"
   ]
  },
  {
   "cell_type": "markdown",
   "metadata": {},
   "source": [
    "### Leyenda"
   ]
  },
  {
   "cell_type": "markdown",
   "metadata": {},
   "source": [
    "Se puedde usar el parámetro **label=\"texto leyenda\"** cuando se añaden plots u otros objetos a la Figura. Después, se llama al método **legend** para incluir la leyenda en el gráfico: "
   ]
  },
  {
   "cell_type": "code",
   "execution_count": null,
   "metadata": {},
   "outputs": [],
   "source": [
    "fig = plt.figure()\n",
    "\n",
    "ax = fig.add_axes([0,0,1,1])\n",
    "\n",
    "ax.plot(x, x**2, 'r', label=\"$\\int x^2 d x$\")\n",
    "ax.plot(x, x**3, label=\"x**3\")\n",
    "ax.legend()"
   ]
  },
  {
   "cell_type": "markdown",
   "metadata": {},
   "source": [
    "El método **legend** tiene un parámetro opcional **loc** que se usa para especificar la posición de la leyenda en la Figura. Soporta códigos númericos o la cadena directamente. Ver la documentación para conocer muchas más opciones: http://matplotlib.org/users/legend_guide.html#legend-location."
   ]
  },
  {
   "cell_type": "code",
   "execution_count": null,
   "metadata": {},
   "outputs": [],
   "source": [
    "ax.legend(loc=1) # upper right \n",
    "#ax.legend(loc=2) # upper left \n",
    "#ax.legend(loc=3) # lower left \n",
    "#ax.legend(loc=4) # lower right\n",
    "\n",
    "# Más común\n",
    "#ax.legend(loc=0) # matplotlib decide la mejor posición\n",
    "\n",
    "# Personalizado\n",
    "#ax.legend(loc=(0.1,0.1))\n",
    "\n",
    "fig"
   ]
  },
  {
   "cell_type": "markdown",
   "metadata": {},
   "source": [
    "## Colores, ancho de líneas y tipo de líneas\n",
    "\n",
    "Matplotlib ofrece *muchas* opciones para personalizar los colores, ancho de líneas y tipo de líneas. \n",
    "\n",
    "Matplotlib soporta una sintaxis básica similar a MatLab que sugerimos evitar en aras de la claridad:"
   ]
  },
  {
   "cell_type": "markdown",
   "metadata": {},
   "source": [
    "### Sintaxis similar a MatLab"
   ]
  },
  {
   "cell_type": "markdown",
   "metadata": {},
   "source": [
    "Con matplotlib, podemos definir los colores de las líneas y otros elementos gráficos de varias maneras. En primer lugar, podemos usar la sintaxis similar a MATLAB donde `'b'` significa azul, `'g'` significa verde, etc. También se pueden seleccionar estilos de línea: donde, por ejemplo, 'b.-' significa una línea azul con puntos:\n"
   ]
  },
  {
   "cell_type": "code",
   "execution_count": null,
   "metadata": {},
   "outputs": [],
   "source": [
    "# Estilo MATLAB\n",
    "fig, ax = plt.subplots()\n",
    "ax.plot(x, x**2, 'b.-') # línea azul (b) con puntos\n",
    "ax.plot(x, x**3, 'g--') # línea punteada verde (g) "
   ]
  },
  {
   "cell_type": "markdown",
   "metadata": {},
   "source": [
    "### Colores usando el parámetro `color=`"
   ]
  },
  {
   "cell_type": "markdown",
   "metadata": {},
   "source": [
    "También podemos definir colores por sus nombres o códigos hexadecimales RGB y, opcionalmente, proporcionar un valor alfa utilizando los argumentos de palabras clave `color` y `alfa`. Alpha indica opacidad.\n"
   ]
  },
  {
   "cell_type": "code",
   "execution_count": null,
   "metadata": {},
   "outputs": [],
   "source": [
    "fig, ax = plt.subplots()\n",
    "\n",
    "ax.plot(x, x+1, color=\"blue\", alpha=0.5) # medio-transparente (alpha=0.5)\n",
    "ax.plot(x, x+2, color=\"#8B008B\")        # Código hexadecimal RGB (RGB Hex Code)\n",
    "ax.plot(x, x+3, color=\"#FF8C00\")        # Código hexadecimal RGB"
   ]
  },
  {
   "cell_type": "markdown",
   "metadata": {},
   "source": [
    "### Estilos de líneas y marcadores"
   ]
  },
  {
   "cell_type": "markdown",
   "metadata": {},
   "source": [
    "Para cambiar el ancho de línea se utiliza el parámetro `linewidth` (o simplemente `lw`). El estilo de línea se puede sellecionar mediante el argumento `linestyle` (o `ls`):"
   ]
  },
  {
   "cell_type": "code",
   "execution_count": null,
   "metadata": {},
   "outputs": [],
   "source": [
    "fig, ax = plt.subplots(figsize=(12,6))\n",
    "\n",
    "# linewidth\n",
    "ax.plot(x, x+1, color=\"red\", linewidth=0.25)\n",
    "ax.plot(x, x+2, color=\"red\", linewidth=0.50)\n",
    "ax.plot(x, x+3, color=\"red\", linewidth=1.00)\n",
    "ax.plot(x, x+4, color=\"red\", linewidth=2.00)\n",
    "\n",
    "# linestyle: ‘-‘, ‘-.’, ‘:’, ‘steps’\n",
    "ax.plot(x, x+5, color=\"green\", lw=3, linestyle='-')\n",
    "ax.plot(x, x+6, color=\"green\", lw=3, ls='-.')\n",
    "ax.plot(x, x+7, color=\"green\", lw=3, ls=':')\n",
    "\n",
    "# línea personalizada\n",
    "line, = ax.plot(x, x+8, color=\"black\", lw=1.50)\n",
    "line.set_dashes([5, 10, 15, 10]) # formato: longitud de línea, longitud de espacio, ...\n",
    "\n",
    "# marcadores: marker = '+', 'o', '*', 's', ',', '.', '1', '2', '3', '4', ...\n",
    "ax.plot(x, x+ 9, color=\"blue\", lw=2, ls='-', marker='+')\n",
    "ax.plot(x, x+10, color=\"blue\", lw=2, ls='--', marker='o')\n",
    "ax.plot(x, x+11, color=\"blue\", lw=2, ls='-', marker='s')\n",
    "ax.plot(x, x+12, color=\"blue\", lw=1, ls='--', marker='1')\n",
    "\n",
    "# tamaño y color del marcador\n",
    "ax.plot(x, x+13, color=\"purple\", lw=1, ls='-', marker='o', markersize=2)\n",
    "ax.plot(x, x+14, color=\"purple\", lw=1, ls='-', marker='o', markersize=4)\n",
    "ax.plot(x, x+15, color=\"purple\", lw=1, ls='-', marker='o', markersize=8, markerfacecolor=\"red\")\n",
    "ax.plot(x, x+16, color=\"purple\", lw=1, ls='-', marker='s', markersize=8, \n",
    "        markerfacecolor=\"yellow\", markeredgewidth=3, markeredgecolor=\"green\");"
   ]
  },
  {
   "cell_type": "markdown",
   "metadata": {},
   "source": [
    "### Control sobre la apariencia de los ejes"
   ]
  },
  {
   "cell_type": "markdown",
   "metadata": {},
   "source": [
    "#### Rango \n",
    "\n",
    "Podemos configurar los rangos de los ejes usando los métodos `set_ylim` y `set_xlim` del objeto del eje, o llamando al método `axis ('tight')` para obtener automáticamente rangos de ejes \"ajustados\":"
   ]
  },
  {
   "cell_type": "code",
   "execution_count": null,
   "metadata": {},
   "outputs": [],
   "source": [
    "fig, axes = plt.subplots(1, 3, figsize=(12, 4))\n",
    "\n",
    "axes[0].plot(x, x**2) # Se puede graficar sobre la misma figura llamando varias veces a plot()\n",
    "axes[0].plot(x, x**3)\n",
    "axes[0].set_title(\"Rango de ejes por defecto\")\n",
    "\n",
    "axes[1].plot(x, x**2, x, x**3) # Se puede hacer esto en una sola línea\n",
    "axes[1].axis('tight')\n",
    "axes[1].set_title(\"Rango ajustado\")\n",
    "\n",
    "axes[2].plot(x, x**2, x, x**3)\n",
    "axes[2].set_ylim([0, 60])\n",
    "axes[2].set_xlim([2, 5])\n",
    "axes[2].set_title(\"Rango personalizado\");"
   ]
  },
  {
   "cell_type": "markdown",
   "metadata": {},
   "source": [
    "# Tipos de gráficos especiales\n",
    "\n",
    "Al igual que con Pandas, en Matplotlib se pueden crear varios tipos de gráficos: barplots, histogramas, scatter plots, y muchos más. La mayoría de estos gráficos los crearemos usando Seaborn, una librería para gráficos estadísticos para Python. Pero aquí se presentan algunos ejemplos con matplotlib:"
   ]
  },
  {
   "cell_type": "code",
   "execution_count": null,
   "metadata": {},
   "outputs": [],
   "source": [
    "plt.scatter(x,y)"
   ]
  },
  {
   "cell_type": "code",
   "execution_count": null,
   "metadata": {},
   "outputs": [],
   "source": [
    "from random import sample\n",
    "data = sample(range(1, 1000), 100)\n",
    "plt.hist(data, width=80)"
   ]
  },
  {
   "cell_type": "code",
   "execution_count": null,
   "metadata": {},
   "outputs": [],
   "source": [
    "data = [np.random.normal(0, std, 100) for std in range(1, 4)]\n",
    "\n",
    "# boxplot rectangular\n",
    "plt.boxplot(data,vert=True,patch_artist=True);   "
   ]
  },
  {
   "cell_type": "markdown",
   "metadata": {},
   "source": [
    "## Lecturas adicionales:"
   ]
  },
  {
   "cell_type": "markdown",
   "metadata": {},
   "source": [
    "* http://www.matplotlib.org \n",
    "* http://matplotlib.org/gallery.html - Ejemplos - muy recomendado.\n",
    "* http://www.labri.fr/perso/nrougier/teaching/matplotlib/ - Excelente tutorial.\n",
    "* http://scipy-lectures.github.io/matplotlib/matplotlib.html \n"
   ]
  }
 ],
 "metadata": {
  "kernelspec": {
   "display_name": "Python 3",
   "language": "python",
   "name": "python3"
  },
  "language_info": {
   "codemirror_mode": {
    "name": "ipython",
    "version": 3
   },
   "file_extension": ".py",
   "mimetype": "text/x-python",
   "name": "python",
   "nbconvert_exporter": "python",
   "pygments_lexer": "ipython3",
   "version": "3.7.4"
  }
 },
 "nbformat": 4,
 "nbformat_minor": 1
}
