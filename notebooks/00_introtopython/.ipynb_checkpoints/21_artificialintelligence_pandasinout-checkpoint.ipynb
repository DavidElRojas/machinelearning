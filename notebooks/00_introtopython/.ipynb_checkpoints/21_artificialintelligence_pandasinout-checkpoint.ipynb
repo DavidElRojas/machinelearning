{
 "cells": [
  {
   "cell_type": "markdown",
   "metadata": {},
   "source": [
    "<!--NAVIGATION-->\n",
    "<a href=\"https://colab.research.google.com/github/marcoteran/machinelearning/blob/master/notebooks/00_introtopython/21_artificialintelligence_pandasinout.ipynb\" target=\"_blank\"><img align=\"left\" src=\"https://colab.research.google.com/assets/colab-badge.svg\" alt=\"Abrir en Colab\" title=\"Abrir y ejecutar en Google Colaboratory\"></a>"
   ]
  },
  {
   "cell_type": "markdown",
   "metadata": {},
   "source": [
    "### Ejemplos de código\n",
    "# Pandas: Entrada - Salida de datos\n",
    "## Inteligencia Artificial"
   ]
  },
  {
   "cell_type": "markdown",
   "metadata": {},
   "source": [
    "**Name:** Marco Teran **E-mail:** marco.tulio.teran@gmail.com,\n",
    "[Website](http://marcoteran.github.io/),\n",
    "[Github](https://github.com/marcoteran),\n",
    "[LinkedIn](https://www.linkedin.com/in/marcoteran/).\n",
    "___"
   ]
  },
  {
   "cell_type": "markdown",
   "metadata": {},
   "source": [
    "Este notebook sirve de referencia para trabajar con entrada - salida de datos. \n",
    "Pandas permite leer un gran variedad de tipos de archivos usando los métodos pd.read_*. \n",
    "Veamos los más comunes:\n",
    "* CSV\n",
    "* Excel\n",
    "* HTML\n",
    "* SQL\n",
    "\n",
    "## Instalación\n",
    "\n",
    "Aunque ya deberia estar todo instalado, si hay algún problema asegúrese de tener instalado lo siguiente:\n",
    "* conda install sqlalchemy\n",
    "* conda install lxml\n",
    "* conda install html5lib\n",
    "* conda install BeautifulSoup4\n",
    "* conda install xlrd"
   ]
  },
  {
   "cell_type": "code",
   "execution_count": null,
   "metadata": {},
   "outputs": [],
   "source": [
    "import numpy as np\n",
    "import pandas as pd"
   ]
  },
  {
   "cell_type": "code",
   "execution_count": null,
   "metadata": {},
   "outputs": [],
   "source": [
    "pwd"
   ]
  },
  {
   "cell_type": "code",
   "execution_count": null,
   "metadata": {},
   "outputs": [],
   "source": [
    "ls"
   ]
  },
  {
   "cell_type": "markdown",
   "metadata": {},
   "source": [
    "## CSV - Comma Separated Values\n",
    "\n",
    "### Entrada CSV"
   ]
  },
  {
   "cell_type": "code",
   "execution_count": null,
   "metadata": {},
   "outputs": [],
   "source": [
    "# Para ver la variedad de formatos que se pueden leer. escribir pd.read_ y presionar TAB\n",
    "\n",
    "df = pd.read_csv('ejemplo.csv')\n",
    "df['nueva']=df['a']+df['b']\n",
    "df"
   ]
  },
  {
   "cell_type": "markdown",
   "metadata": {},
   "source": [
    "### Salida CSV"
   ]
  },
  {
   "cell_type": "code",
   "execution_count": null,
   "metadata": {},
   "outputs": [],
   "source": [
    "df.to_csv('ejemplo_salida.csv',index=False)"
   ]
  },
  {
   "cell_type": "markdown",
   "metadata": {},
   "source": [
    "## Excel\n",
    "\n",
    "Pandas puede leer y escribir archivos de Excel. Tenga en cuenta que sólo se importan los valores, no se importan fórmulas o imágenes. Es posible que el método read_excel de Pandas falle si la hoja de Excel tiene macros o imágenes. "
   ]
  },
  {
   "cell_type": "markdown",
   "metadata": {},
   "source": [
    "### Entrada Excel"
   ]
  },
  {
   "cell_type": "code",
   "execution_count": null,
   "metadata": {},
   "outputs": [],
   "source": [
    "pd.read_excel('ejemplo_Excel.xlsx',sheet_name='Hoja1')"
   ]
  },
  {
   "cell_type": "markdown",
   "metadata": {},
   "source": [
    "### Excel Output"
   ]
  },
  {
   "cell_type": "code",
   "execution_count": null,
   "metadata": {},
   "outputs": [],
   "source": [
    "df.to_excel('ejemplo_Excel_salida.xlsx',sheet_name='Hoja1')"
   ]
  },
  {
   "cell_type": "markdown",
   "metadata": {},
   "source": [
    "## HTML\n",
    "\n",
    "Pandas puede leer tablas a partir de un html. Por ejemplo:"
   ]
  },
  {
   "cell_type": "markdown",
   "metadata": {},
   "source": [
    "### Entrada HTML\n",
    "\n",
    "La función read_html de Pandas lee tablas a partir de una página web HTML y retorna una lista de objetos DataFrames:"
   ]
  },
  {
   "cell_type": "code",
   "execution_count": null,
   "metadata": {},
   "outputs": [],
   "source": [
    "df = pd.read_html('https://resultados2018.registraduria.gov.co/resultados/99SE/BXXXX/DSE99999.htm')"
   ]
  },
  {
   "cell_type": "code",
   "execution_count": null,
   "metadata": {},
   "outputs": [],
   "source": [
    "# df contiene una lista de DataFrames con cada una de las tablas de esa página web  \n",
    "\n",
    "df\n"
   ]
  },
  {
   "cell_type": "code",
   "execution_count": null,
   "metadata": {},
   "outputs": [],
   "source": [
    "# Para acceder al sexto dataframe\n",
    "\n",
    "df[5].head()\n",
    "\n"
   ]
  },
  {
   "cell_type": "markdown",
   "metadata": {},
   "source": [
    "### Salida HTML "
   ]
  },
  {
   "cell_type": "code",
   "execution_count": null,
   "metadata": {},
   "outputs": [],
   "source": [
    "df[5].to_html('senado2018_verdes_salida.html')"
   ]
  },
  {
   "cell_type": "markdown",
   "metadata": {},
   "source": [
    "_____\n",
    "_____\n",
    "## SQL (Opcional)\n",
    "\n",
    "* Nota: si para usted es completamente desconocido SQL, se recomienda buscar material adicional en Internet acerca de esto."
   ]
  },
  {
   "cell_type": "markdown",
   "metadata": {},
   "source": [
    "El módulo pandas.io.sql proporciona una colección de contenedores de consultas para facilitar la recuperación de datos y reducir la dependencia de APIs específicas de bases de datos. La abstracción de bases de datos es proporcionada por SQLAlchemy si está instalada. Además, necesitará un controlador para su base de datos. Ejemplos de tales controladores son psycopg2 para PostgreSQL o pymysql para MySQL. Para SQLite está incluido en la biblioteca estándar de Python por defecto. Puede encontrar una descripción general de los controladores soportados por cada dialecto de SQL en la documentación de SQLAlchemy.\n",
    "\n",
    "Las funciones clave son:\n",
    "* read_sql_table(table_name, con[, schema, ...])\t\n",
    "    * Lee una tabla de una base de datos SQL y la almacena en un DataFrame.\n",
    "* read_sql_query(sql, con[, index_col, ...])\t\n",
    "    * Lee una consulta (query) SQL y la almacena en un DataFrame.\n",
    "* read_sql(sql, con[, index_col, ...])\t\n",
    "    * Lee una consulta SQL o una tabla y la almacena en un DataFrame.\n",
    "* DataFrame.to_sql(name, con[, flavor, ...])\t\n",
    "    * Escribe registros almacenados en un DataFrame en una base de datos SQL."
   ]
  },
  {
   "cell_type": "code",
   "execution_count": null,
   "metadata": {},
   "outputs": [],
   "source": [
    "from sqlalchemy import create_engine"
   ]
  },
  {
   "cell_type": "code",
   "execution_count": null,
   "metadata": {},
   "outputs": [],
   "source": [
    "engine = create_engine('sqlite:///:memory:')"
   ]
  },
  {
   "cell_type": "code",
   "execution_count": null,
   "metadata": {},
   "outputs": [],
   "source": [
    "# Notese que seguimos usando el sexto DataFrame del senado (ejemplo HTML) \n",
    "\n",
    "df[5].to_sql('data', engine) #nombre tabla data"
   ]
  },
  {
   "cell_type": "code",
   "execution_count": null,
   "metadata": {},
   "outputs": [],
   "source": [
    "sql_df = pd.read_sql('data',con=engine)"
   ]
  },
  {
   "cell_type": "code",
   "execution_count": null,
   "metadata": {},
   "outputs": [],
   "source": [
    "sql_df"
   ]
  },
  {
   "cell_type": "code",
   "execution_count": null,
   "metadata": {},
   "outputs": [],
   "source": []
  }
 ],
 "metadata": {
  "kernelspec": {
   "display_name": "Python 3",
   "language": "python",
   "name": "python3"
  },
  "language_info": {
   "codemirror_mode": {
    "name": "ipython",
    "version": 3
   },
   "file_extension": ".py",
   "mimetype": "text/x-python",
   "name": "python",
   "nbconvert_exporter": "python",
   "pygments_lexer": "ipython3",
   "version": "3.7.4"
  }
 },
 "nbformat": 4,
 "nbformat_minor": 1
}
